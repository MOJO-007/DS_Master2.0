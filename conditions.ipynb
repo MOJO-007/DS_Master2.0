{
 "cells": [
  {
   "cell_type": "code",
   "execution_count": 8,
   "id": "a7b390fd-fbc9-4cac-ba81-966afc391c27",
   "metadata": {},
   "outputs": [
    {
     "name": "stdout",
     "output_type": "stream",
     "text": [
      "lower\n"
     ]
    }
   ],
   "source": [
    "a = 10\n",
    "if a<10 :\n",
    "    print(\"Greater\")\n",
    "else :\n",
    "    print(\"lower\")"
   ]
  },
  {
   "cell_type": "code",
   "execution_count": 16,
   "id": "2dcce281-079f-4b67-b0e6-b4dab8f3e050",
   "metadata": {},
   "outputs": [],
   "source": [
    "var2 = ''"
   ]
  },
  {
   "cell_type": "code",
   "execution_count": 17,
   "id": "2b22a4d2-1b82-4e97-b8c3-da0f482fdb72",
   "metadata": {},
   "outputs": [
    {
     "data": {
      "text/plain": [
       "str"
      ]
     },
     "execution_count": 17,
     "metadata": {},
     "output_type": "execute_result"
    }
   ],
   "source": [
    "type(var2)"
   ]
  },
  {
   "cell_type": "code",
   "execution_count": 18,
   "id": "fbf1c0c9-6b6d-4b80-a1ff-4e29807de67a",
   "metadata": {},
   "outputs": [],
   "source": [
    "l= [1,2,3,4.023,'five','true']"
   ]
  },
  {
   "cell_type": "code",
   "execution_count": 19,
   "id": "4b21376d-adc3-48e1-b567-569d168e7124",
   "metadata": {},
   "outputs": [],
   "source": [
    "k=[7,8]"
   ]
  },
  {
   "cell_type": "code",
   "execution_count": 20,
   "id": "d5a548a0-b745-4323-978f-d39d2c8b170b",
   "metadata": {},
   "outputs": [],
   "source": [
    "l= [1,2,3,4.023,'five','true',k]"
   ]
  },
  {
   "cell_type": "code",
   "execution_count": 21,
   "id": "a8ce96aa-2c4c-479e-b437-856966cda02d",
   "metadata": {},
   "outputs": [
    {
     "name": "stdout",
     "output_type": "stream",
     "text": [
      "<class 'int'>\n",
      "1\n",
      "<class 'int'>\n",
      "2\n",
      "<class 'int'>\n",
      "3\n",
      "<class 'float'>\n",
      "4.023\n",
      "<class 'str'>\n",
      "five\n",
      "<class 'str'>\n",
      "true\n",
      "<class 'list'>\n",
      "[7, 8]\n"
     ]
    }
   ],
   "source": [
    "for i in l:\n",
    "    print(type(i))\n",
    "    print(i)"
   ]
  },
  {
   "cell_type": "code",
   "execution_count": 23,
   "id": "ef3bb386-ac02-4d0b-afd9-ab67ce7b7546",
   "metadata": {},
   "outputs": [
    {
     "name": "stdin",
     "output_type": "stream",
     "text": [
      " 10\n"
     ]
    }
   ],
   "source": [
    "x=int(input())"
   ]
  },
  {
   "cell_type": "code",
   "execution_count": 24,
   "id": "e62ed638-fb41-461b-8b92-1a6751fb8523",
   "metadata": {},
   "outputs": [
    {
     "name": "stdin",
     "output_type": "stream",
     "text": [
      " 5\n"
     ]
    }
   ],
   "source": [
    "y=int(input())"
   ]
  },
  {
   "cell_type": "code",
   "execution_count": 39,
   "id": "de511b76-68ee-4a5a-ba66-cebb53c5dce0",
   "metadata": {},
   "outputs": [
    {
     "name": "stdout",
     "output_type": "stream",
     "text": [
      "divisible\n",
      "2\n"
     ]
    }
   ],
   "source": [
    "#Question 5\n",
    "while(x%y==0):\n",
    "    print('divisible')\n",
    "    print(int(x/y))\n",
    "    break\n",
    "else:\n",
    "    print('not divisible')"
   ]
  },
  {
   "cell_type": "code",
   "execution_count": 38,
   "id": "0addd849-d3da-452b-a3da-fc6f9e93c501",
   "metadata": {},
   "outputs": [
    {
     "name": "stdout",
     "output_type": "stream",
     "text": [
      "range(0, 26)\n",
      "Divisible by three\n",
      "0\n",
      "Not divisible by three\n",
      "1\n",
      "Not divisible by three\n",
      "2\n",
      "Divisible by three\n",
      "3\n",
      "Not divisible by three\n",
      "4\n",
      "Not divisible by three\n",
      "5\n",
      "Divisible by three\n",
      "6\n",
      "Not divisible by three\n",
      "7\n",
      "Not divisible by three\n",
      "8\n",
      "Divisible by three\n",
      "9\n",
      "Not divisible by three\n",
      "10\n",
      "Not divisible by three\n",
      "11\n",
      "Divisible by three\n",
      "12\n",
      "Not divisible by three\n",
      "13\n",
      "Not divisible by three\n",
      "14\n",
      "Divisible by three\n",
      "15\n",
      "Not divisible by three\n",
      "16\n",
      "Not divisible by three\n",
      "17\n",
      "Divisible by three\n",
      "18\n",
      "Not divisible by three\n",
      "19\n",
      "Not divisible by three\n",
      "20\n",
      "Divisible by three\n",
      "21\n",
      "Not divisible by three\n",
      "22\n",
      "Not divisible by three\n",
      "23\n",
      "Divisible by three\n",
      "24\n",
      "Not divisible by three\n",
      "25\n"
     ]
    }
   ],
   "source": [
    "#Question 6\n",
    "li = range(26)\n",
    "print(li)\n",
    "for i in li:\n",
    "    if(i%3==0):\n",
    "        print(\"Divisible by three\")\n",
    "        print(i)\n",
    "    else:\n",
    "        print(\"Not divisible by three\")\n",
    "        print(i)"
   ]
  },
  {
   "cell_type": "code",
   "execution_count": null,
   "id": "4f4e35af-fb3f-4dc3-a168-7c0ff5de4380",
   "metadata": {},
   "outputs": [],
   "source": []
  }
 ],
 "metadata": {
  "kernelspec": {
   "display_name": "Python 3 (ipykernel)",
   "language": "python",
   "name": "python3"
  },
  "language_info": {
   "codemirror_mode": {
    "name": "ipython",
    "version": 3
   },
   "file_extension": ".py",
   "mimetype": "text/x-python",
   "name": "python",
   "nbconvert_exporter": "python",
   "pygments_lexer": "ipython3",
   "version": "3.10.8"
  }
 },
 "nbformat": 4,
 "nbformat_minor": 5
}
